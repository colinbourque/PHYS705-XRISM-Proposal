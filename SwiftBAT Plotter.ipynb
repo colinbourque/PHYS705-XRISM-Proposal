{
 "cells": [
  {
   "cell_type": "code",
   "execution_count": 1,
   "id": "4f65efc8",
   "metadata": {},
   "outputs": [],
   "source": [
    "import numpy as np \n",
    "import matplotlib.pyplot as plt \n",
    "import pandas as pd\n",
    "import math\n",
    "from astropy.table import Table\n",
    "from scipy import stats"
   ]
  },
  {
   "cell_type": "code",
   "execution_count": 2,
   "id": "a5c1eba7",
   "metadata": {},
   "outputs": [
    {
     "name": "stderr",
     "output_type": "stream",
     "text": [
      "WARNING: UnitsWarning: 'count/cm^2/s' contains multiple slashes, which is discouraged by the FITS standard [astropy.units.format.generic]\n"
     ]
    }
   ],
   "source": [
    "swift = Table.read(\"4U1700-377.orbit.lc.fits\")"
   ]
  },
  {
   "cell_type": "code",
   "execution_count": 3,
   "id": "3c799bac",
   "metadata": {},
   "outputs": [],
   "source": [
    "swift_df = np.array(swift)\n",
    "swift_pd = pd.DataFrame(swift_df)"
   ]
  },
  {
   "cell_type": "code",
   "execution_count": 4,
   "id": "aa9ed81f",
   "metadata": {},
   "outputs": [
    {
     "data": {
      "text/html": [
       "<div>\n",
       "<style scoped>\n",
       "    .dataframe tbody tr th:only-of-type {\n",
       "        vertical-align: middle;\n",
       "    }\n",
       "\n",
       "    .dataframe tbody tr th {\n",
       "        vertical-align: top;\n",
       "    }\n",
       "\n",
       "    .dataframe thead th {\n",
       "        text-align: right;\n",
       "    }\n",
       "</style>\n",
       "<table border=\"1\" class=\"dataframe\">\n",
       "  <thead>\n",
       "    <tr style=\"text-align: right;\">\n",
       "      <th></th>\n",
       "      <th>TIME</th>\n",
       "      <th>RATE</th>\n",
       "      <th>ERROR</th>\n",
       "      <th>YEAR</th>\n",
       "      <th>DAY</th>\n",
       "      <th>MJD</th>\n",
       "      <th>TIMEDEL</th>\n",
       "      <th>STAT_ERR</th>\n",
       "      <th>SYS_ERR</th>\n",
       "      <th>PCODEFR</th>\n",
       "      <th>DATA_FLAG</th>\n",
       "      <th>DITHER_FLAG</th>\n",
       "    </tr>\n",
       "  </thead>\n",
       "  <tbody>\n",
       "    <tr>\n",
       "      <th>0</th>\n",
       "      <td>130117312.0</td>\n",
       "      <td>0.034542</td>\n",
       "      <td>0.002474</td>\n",
       "      <td>2005</td>\n",
       "      <td>45</td>\n",
       "      <td>53415</td>\n",
       "      <td>1088.0</td>\n",
       "      <td>0.001724</td>\n",
       "      <td>0.001589</td>\n",
       "      <td>0.992188</td>\n",
       "      <td>0</td>\n",
       "      <td>1</td>\n",
       "    </tr>\n",
       "    <tr>\n",
       "      <th>1</th>\n",
       "      <td>130118456.0</td>\n",
       "      <td>0.015544</td>\n",
       "      <td>0.002705</td>\n",
       "      <td>2005</td>\n",
       "      <td>46</td>\n",
       "      <td>53416</td>\n",
       "      <td>576.0</td>\n",
       "      <td>0.002372</td>\n",
       "      <td>0.000715</td>\n",
       "      <td>0.843750</td>\n",
       "      <td>0</td>\n",
       "      <td>1</td>\n",
       "    </tr>\n",
       "    <tr>\n",
       "      <th>2</th>\n",
       "      <td>130123344.0</td>\n",
       "      <td>0.040667</td>\n",
       "      <td>0.002488</td>\n",
       "      <td>2005</td>\n",
       "      <td>46</td>\n",
       "      <td>53416</td>\n",
       "      <td>1472.0</td>\n",
       "      <td>0.001492</td>\n",
       "      <td>0.001871</td>\n",
       "      <td>0.843750</td>\n",
       "      <td>0</td>\n",
       "      <td>1</td>\n",
       "    </tr>\n",
       "    <tr>\n",
       "      <th>3</th>\n",
       "      <td>130130120.0</td>\n",
       "      <td>0.061358</td>\n",
       "      <td>0.004051</td>\n",
       "      <td>2005</td>\n",
       "      <td>46</td>\n",
       "      <td>53416</td>\n",
       "      <td>512.0</td>\n",
       "      <td>0.002641</td>\n",
       "      <td>0.002822</td>\n",
       "      <td>0.835938</td>\n",
       "      <td>0</td>\n",
       "      <td>0</td>\n",
       "    </tr>\n",
       "    <tr>\n",
       "      <th>4</th>\n",
       "      <td>130135976.0</td>\n",
       "      <td>0.089608</td>\n",
       "      <td>0.005340</td>\n",
       "      <td>2005</td>\n",
       "      <td>46</td>\n",
       "      <td>53416</td>\n",
       "      <td>384.0</td>\n",
       "      <td>0.003086</td>\n",
       "      <td>0.004122</td>\n",
       "      <td>0.835938</td>\n",
       "      <td>0</td>\n",
       "      <td>1</td>\n",
       "    </tr>\n",
       "    <tr>\n",
       "      <th>...</th>\n",
       "      <td>...</td>\n",
       "      <td>...</td>\n",
       "      <td>...</td>\n",
       "      <td>...</td>\n",
       "      <td>...</td>\n",
       "      <td>...</td>\n",
       "      <td>...</td>\n",
       "      <td>...</td>\n",
       "      <td>...</td>\n",
       "      <td>...</td>\n",
       "      <td>...</td>\n",
       "      <td>...</td>\n",
       "    </tr>\n",
       "    <tr>\n",
       "      <th>83102</th>\n",
       "      <td>766778128.0</td>\n",
       "      <td>0.030037</td>\n",
       "      <td>0.006038</td>\n",
       "      <td>2025</td>\n",
       "      <td>109</td>\n",
       "      <td>60784</td>\n",
       "      <td>768.0</td>\n",
       "      <td>0.005234</td>\n",
       "      <td>0.001382</td>\n",
       "      <td>1.015625</td>\n",
       "      <td>0</td>\n",
       "      <td>0</td>\n",
       "    </tr>\n",
       "    <tr>\n",
       "      <th>83103</th>\n",
       "      <td>766778960.0</td>\n",
       "      <td>0.009826</td>\n",
       "      <td>0.006417</td>\n",
       "      <td>2025</td>\n",
       "      <td>109</td>\n",
       "      <td>60784</td>\n",
       "      <td>640.0</td>\n",
       "      <td>0.005700</td>\n",
       "      <td>0.000452</td>\n",
       "      <td>1.000000</td>\n",
       "      <td>0</td>\n",
       "      <td>0</td>\n",
       "    </tr>\n",
       "    <tr>\n",
       "      <th>83104</th>\n",
       "      <td>766789480.0</td>\n",
       "      <td>0.024323</td>\n",
       "      <td>0.005513</td>\n",
       "      <td>2025</td>\n",
       "      <td>109</td>\n",
       "      <td>60784</td>\n",
       "      <td>824.0</td>\n",
       "      <td>0.004807</td>\n",
       "      <td>0.001119</td>\n",
       "      <td>1.015625</td>\n",
       "      <td>0</td>\n",
       "      <td>0</td>\n",
       "    </tr>\n",
       "    <tr>\n",
       "      <th>83105</th>\n",
       "      <td>766817192.0</td>\n",
       "      <td>0.049436</td>\n",
       "      <td>0.019000</td>\n",
       "      <td>2025</td>\n",
       "      <td>110</td>\n",
       "      <td>60785</td>\n",
       "      <td>600.0</td>\n",
       "      <td>0.016798</td>\n",
       "      <td>0.002274</td>\n",
       "      <td>0.238281</td>\n",
       "      <td>0</td>\n",
       "      <td>0</td>\n",
       "    </tr>\n",
       "    <tr>\n",
       "      <th>83106</th>\n",
       "      <td>766818216.0</td>\n",
       "      <td>0.045727</td>\n",
       "      <td>0.004841</td>\n",
       "      <td>2025</td>\n",
       "      <td>110</td>\n",
       "      <td>60785</td>\n",
       "      <td>600.0</td>\n",
       "      <td>0.003883</td>\n",
       "      <td>0.002103</td>\n",
       "      <td>0.976562</td>\n",
       "      <td>0</td>\n",
       "      <td>0</td>\n",
       "    </tr>\n",
       "  </tbody>\n",
       "</table>\n",
       "<p>83107 rows × 12 columns</p>\n",
       "</div>"
      ],
      "text/plain": [
       "              TIME      RATE     ERROR  YEAR  DAY    MJD  TIMEDEL  STAT_ERR  \\\n",
       "0      130117312.0  0.034542  0.002474  2005   45  53415   1088.0  0.001724   \n",
       "1      130118456.0  0.015544  0.002705  2005   46  53416    576.0  0.002372   \n",
       "2      130123344.0  0.040667  0.002488  2005   46  53416   1472.0  0.001492   \n",
       "3      130130120.0  0.061358  0.004051  2005   46  53416    512.0  0.002641   \n",
       "4      130135976.0  0.089608  0.005340  2005   46  53416    384.0  0.003086   \n",
       "...            ...       ...       ...   ...  ...    ...      ...       ...   \n",
       "83102  766778128.0  0.030037  0.006038  2025  109  60784    768.0  0.005234   \n",
       "83103  766778960.0  0.009826  0.006417  2025  109  60784    640.0  0.005700   \n",
       "83104  766789480.0  0.024323  0.005513  2025  109  60784    824.0  0.004807   \n",
       "83105  766817192.0  0.049436  0.019000  2025  110  60785    600.0  0.016798   \n",
       "83106  766818216.0  0.045727  0.004841  2025  110  60785    600.0  0.003883   \n",
       "\n",
       "        SYS_ERR   PCODEFR  DATA_FLAG  DITHER_FLAG  \n",
       "0      0.001589  0.992188          0            1  \n",
       "1      0.000715  0.843750          0            1  \n",
       "2      0.001871  0.843750          0            1  \n",
       "3      0.002822  0.835938          0            0  \n",
       "4      0.004122  0.835938          0            1  \n",
       "...         ...       ...        ...          ...  \n",
       "83102  0.001382  1.015625          0            0  \n",
       "83103  0.000452  1.000000          0            0  \n",
       "83104  0.001119  1.015625          0            0  \n",
       "83105  0.002274  0.238281          0            0  \n",
       "83106  0.002103  0.976562          0            0  \n",
       "\n",
       "[83107 rows x 12 columns]"
      ]
     },
     "execution_count": 4,
     "metadata": {},
     "output_type": "execute_result"
    }
   ],
   "source": [
    "swift_pd"
   ]
  },
  {
   "cell_type": "code",
   "execution_count": 5,
   "id": "1a8694ca",
   "metadata": {},
   "outputs": [],
   "source": [
    "xmm_eclref_swifttime = 557162834.502 ## units of seconds since swift launch\n",
    "\n"
   ]
  },
  {
   "cell_type": "code",
   "execution_count": 6,
   "id": "3a001777",
   "metadata": {},
   "outputs": [
    {
     "data": {
      "image/png": "[encoded data removed]",
      "text/plain": [
       "<Figure size 432x288 with 1 Axes>"
      ]
     },
     "metadata": {
      "needs_background": "light"
     },
     "output_type": "display_data"
    }
   ],
   "source": [
    "norbs = 10\n",
    "\n",
    "reftime = 478357343.886 + 3.411660*86400*norbs\n",
    "\n",
    "fig, ax = plt.subplots()\n",
    "\n",
    "ax.xaxis.set_ticks_position('both')\n",
    "ax.yaxis.set_ticks_position('both')\n",
    "\n",
    "\n",
    "ax.errorbar(swift_df[\"TIME\"], swift_df[\"RATE\"], yerr=swift_df[\"ERROR\"], \n",
    "             color='k', capthick=2, capsize=0, markersize=1, linestyle='none',\n",
    "           ecolor='tab:grey')\n",
    "\n",
    "ax.set_xlim([reftime - 10000, reftime + 200000])\n",
    "ax.set_ylim([0, 0.5])\n",
    "\n",
    "plt.show()"
   ]
  },
  {
   "cell_type": "code",
   "execution_count": null,
   "id": "65e588a2",
   "metadata": {},
   "outputs": [],
   "source": []
  },
  {
   "cell_type": "markdown",
   "id": "0d04cca9",
   "metadata": {},
   "source": [
    "# Plot phase-folded"
   ]
  },
  {
   "cell_type": "code",
   "execution_count": 7,
   "id": "fd66898d",
   "metadata": {},
   "outputs": [
    {
     "name": "stdout",
     "output_type": "stream",
     "text": [
      "Obs start date 57448.4312963 (MJD)\n",
      "Last eclipse 57446.54314790122\n",
      "Current orbital period 3.411649320683067\n",
      "Obs starts at orbital phase 0.5534415238201649\n"
     ]
    }
   ],
   "source": [
    "## Convert Swift times to phi:\n",
    "\n",
    "#################################################################\n",
    "#### Do not change anything in here unless well informed\n",
    "## Orbital ephemeris from Islam and Paul 2016\n",
    "orb_epoch = 49149.412 ## units MJD\n",
    "Porb_0 = 3.411660 ## unit days D\n",
    "Porb_rch = -4.7E-7 ## unit yrs^-1\n",
    "Porb_rch *= 1/365.242374 ## units D^-1\n",
    "#################################################################\n",
    "\n",
    "obs_start_MJD = 57448.43129630\n",
    "\n",
    "\n",
    "time_since_epoch = obs_start_MJD - orb_epoch\n",
    "\n",
    "Porb_current = Porb_0 + (time_since_epoch*Porb_rch)\n",
    "\n",
    "\n",
    "orbs_since_epoch = math.floor(time_since_epoch/Porb_current)\n",
    "## print(f'orbs since epoch = {orbs_since_epoch}')\n",
    "\n",
    "t_last_orb = orb_epoch + Porb_current*orbs_since_epoch\n",
    "## print(f'time of last eclipse = {t_last_orb}')\n",
    "\n",
    "orb_phase_start = (obs_start_MJD - t_last_orb)/Porb_current\n",
    "\n",
    "# orb_phase_end = (obs_end_MJD - t_last_orb)/Porb_current\n",
    "\n",
    "\n",
    "print(f'Obs start date {obs_start_MJD} (MJD)')\n",
    "print(f'Last eclipse {t_last_orb}')\n",
    "print(f'Current orbital period {Porb_current}')\n",
    "print(f'Obs starts at orbital phase {orb_phase_start}')\n"
   ]
  },
  {
   "cell_type": "code",
   "execution_count": null,
   "id": "30abd80c",
   "metadata": {},
   "outputs": [],
   "source": []
  },
  {
   "cell_type": "code",
   "execution_count": 8,
   "id": "b597eca9",
   "metadata": {},
   "outputs": [],
   "source": [
    "def get_phi(time):\n",
    "    deltime = time - 130117312.0 ## seconds since first Swift/BAT datapoint\n",
    "    deltime_days = deltime / 86400 ## julian days since first SwiftBAT datapoint\n",
    "    dp_day = 53415.98741444 + deltime_days ## observation on date\n",
    "    \n",
    "    time_since_epoch = dp_day - orb_epoch \n",
    "    Porb_current = Porb_0 + (time_since_epoch*Porb_rch)\n",
    "    orbs_since_epoch = math.floor(time_since_epoch/Porb_current)\n",
    "    t_last_orb = orb_epoch + Porb_current*orbs_since_epoch\n",
    "    dp_phase = (dp_day - t_last_orb)/Porb_current\n",
    "    return dp_phase"
   ]
  },
  {
   "cell_type": "code",
   "execution_count": 9,
   "id": "2f5bd711",
   "metadata": {},
   "outputs": [],
   "source": [
    "swift_pd[\"PHI\"] = swift_pd[\"TIME\"].apply(get_phi)"
   ]
  },
  {
   "cell_type": "code",
   "execution_count": 10,
   "id": "3221ccfd",
   "metadata": {},
   "outputs": [
    {
     "data": {
      "image/png": "[encoded data removed]",
      "text/plain": [
       "<Figure size 432x288 with 1 Axes>"
      ]
     },
     "metadata": {
      "needs_background": "light"
     },
     "output_type": "display_data"
    }
   ],
   "source": [
    "fig, ax = plt.subplots()\n",
    "\n",
    "ax.xaxis.set_ticks_position('both')\n",
    "ax.yaxis.set_ticks_position('both')\n",
    "\n",
    "\n",
    "ax.errorbar(swift_pd[\"PHI\"], swift_pd[\"RATE\"], yerr=swift_pd[\"ERROR\"], \n",
    "             color='k', capthick=2, capsize=0, markersize=5, linestyle='none',\n",
    "           ecolor='tab:grey')\n",
    "\n",
    "ax.set_ylim([0, 0.5])\n",
    "\n",
    "plt.show()"
   ]
  },
  {
   "cell_type": "code",
   "execution_count": 11,
   "id": "0ff2522e",
   "metadata": {},
   "outputs": [],
   "source": [
    "## Histogram\n",
    "\n",
    "bin_means, bin_edges, binnumber = stats.binned_statistic(x=swift_pd[\"PHI\"], values=swift_pd[\"RATE\"], \n",
    "                                                         statistic=\"mean\", bins=1000, range=(0,1))"
   ]
  },
  {
   "cell_type": "code",
   "execution_count": null,
   "id": "3b46fb10",
   "metadata": {},
   "outputs": [],
   "source": []
  },
  {
   "cell_type": "code",
   "execution_count": 12,
   "id": "ff67173b",
   "metadata": {},
   "outputs": [
    {
     "data": {
      "image/png": "[encoded data removed]",
      "text/plain": [
       "<Figure size 432x288 with 1 Axes>"
      ]
     },
     "metadata": {
      "needs_background": "light"
     },
     "output_type": "display_data"
    }
   ],
   "source": [
    "fig, ax = plt.subplots()\n",
    "\n",
    "ax.xaxis.set_ticks_position('both')\n",
    "ax.yaxis.set_ticks_position('both')\n",
    "\n",
    "\n",
    "ax.scatter(bin_edges[:-1], bin_means, color='k', s=2)\n",
    "\n",
    "ax.set_ylim([0, 0.08])\n",
    "ax.set_xlim([0,1])\n",
    "\n",
    "plt.show()"
   ]
  }
 ],
 "metadata": {
  "kernelspec": {
   "display_name": "Python 3 (ipykernel)",
   "language": "python",
   "name": "python3"
  },
  "language_info": {
   "codemirror_mode": {
    "name": "ipython",
    "version": 3
   },
   "file_extension": ".py",
   "mimetype": "text/x-python",
   "name": "python",
   "nbconvert_exporter": "python",
   "pygments_lexer": "ipython3",
   "version": "3.9.12"
  }
 },
 "nbformat": 4,
 "nbformat_minor": 5
}
